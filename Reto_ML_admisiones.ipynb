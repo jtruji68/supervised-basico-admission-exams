{
 "cells": [
  {
   "cell_type": "markdown",
   "metadata": {},
   "source": [
    "# Solución Reto Machine Learning\n",
    "Juan David Ortiz Trujillo, estudiante de Desarrollo de Software Corporación Universitaria Remington\n",
    "\n",
    "- Solución al reto de Machine Learning de  [Colomb-ia: Retos de Machine Learning.](https://github.com/danielgil1/supervised-basico-admission-exams)"
   ]
  },
  {
   "cell_type": "markdown",
   "metadata": {},
   "source": [
    "Este dataset es un ejercicio del curso de Machine Learning de Andrew Ng. Consiste en un conjuto de datos de 2 variables:\n",
    "\n",
    "* Nota de examen 1 de un estudiante\n",
    "* Nota de examen 2 de un estudiante\n",
    "* Resultado si fue admitido a una universidad"
   ]
  },
  {
   "cell_type": "markdown",
   "metadata": {},
   "source": [
    "## Objetivo:\n",
    "- Crear un algortimo que tome como input un los resultados del examen 1 y 2 y retorne si el estudiante fue admitido o no. Solo se pueden utilizar los datos del train-set.csv para entrenar."
   ]
  },
  {
   "cell_type": "markdown",
   "metadata": {},
   "source": [
    "### 1. Importar librerias:"
   ]
  },
  {
   "cell_type": "code",
   "execution_count": 28,
   "metadata": {},
   "outputs": [],
   "source": [
    "import pandas as pd\n",
    "import numpy as np\n",
    "from sklearn.preprocessing import StandardScaler\n",
    "from sklearn.svm import SVC\n",
    "import matplotlib.pyplot as plt\n",
    "import seaborn as sns\n",
    "import matplotlib.patches as mpatches"
   ]
  },
  {
   "cell_type": "markdown",
   "metadata": {},
   "source": [
    "### 2. Cargar Datos:"
   ]
  },
  {
   "cell_type": "code",
   "execution_count": 29,
   "metadata": {},
   "outputs": [],
   "source": [
    "df = pd.read_csv('data/train-set.csv',header=None)\n",
    "df_test = pd.read_csv('data/test-set.csv',header=None)\n",
    "columnas = ['examen 1','examen 2','aprobo']\n",
    "df.columns = columnas\n",
    "df_test.columns = columnas"
   ]
  },
  {
   "cell_type": "code",
   "execution_count": 30,
   "metadata": {},
   "outputs": [
    {
     "data": {
      "text/html": [
       "<div>\n",
       "<style scoped>\n",
       "    .dataframe tbody tr th:only-of-type {\n",
       "        vertical-align: middle;\n",
       "    }\n",
       "\n",
       "    .dataframe tbody tr th {\n",
       "        vertical-align: top;\n",
       "    }\n",
       "\n",
       "    .dataframe thead th {\n",
       "        text-align: right;\n",
       "    }\n",
       "</style>\n",
       "<table border=\"1\" class=\"dataframe\">\n",
       "  <thead>\n",
       "    <tr style=\"text-align: right;\">\n",
       "      <th></th>\n",
       "      <th>examen 1</th>\n",
       "      <th>examen 2</th>\n",
       "      <th>aprobo</th>\n",
       "    </tr>\n",
       "  </thead>\n",
       "  <tbody>\n",
       "    <tr>\n",
       "      <th>0</th>\n",
       "      <td>35.623660</td>\n",
       "      <td>85.024693</td>\n",
       "      <td>0</td>\n",
       "    </tr>\n",
       "    <tr>\n",
       "      <th>1</th>\n",
       "      <td>30.286711</td>\n",
       "      <td>80.894998</td>\n",
       "      <td>0</td>\n",
       "    </tr>\n",
       "    <tr>\n",
       "      <th>2</th>\n",
       "      <td>40.847409</td>\n",
       "      <td>60.902198</td>\n",
       "      <td>0</td>\n",
       "    </tr>\n",
       "    <tr>\n",
       "      <th>3</th>\n",
       "      <td>60.182599</td>\n",
       "      <td>40.308552</td>\n",
       "      <td>0</td>\n",
       "    </tr>\n",
       "    <tr>\n",
       "      <th>4</th>\n",
       "      <td>50.032736</td>\n",
       "      <td>50.344376</td>\n",
       "      <td>0</td>\n",
       "    </tr>\n",
       "  </tbody>\n",
       "</table>\n",
       "</div>"
      ],
      "text/plain": [
       "    examen 1   examen 2  aprobo\n",
       "0  35.623660  85.024693       0\n",
       "1  30.286711  80.894998       0\n",
       "2  40.847409  60.902198       0\n",
       "3  60.182599  40.308552       0\n",
       "4  50.032736  50.344376       0"
      ]
     },
     "execution_count": 30,
     "metadata": {},
     "output_type": "execute_result"
    }
   ],
   "source": [
    "df_test.head()"
   ]
  },
  {
   "cell_type": "markdown",
   "metadata": {},
   "source": [
    "### 3. Visualizar dispersión de los datos:\n",
    "- En el diagrama de dispersión se puede evidenciar la división de los aspirantes admitidos y no admitidos."
   ]
  },
  {
   "cell_type": "code",
   "execution_count": 31,
   "metadata": {},
   "outputs": [
    {
     "data": {
      "image/png": "[encoded data removed]",
      "text/plain": [
       "<Figure size 432x288 with 1 Axes>"
      ]
     },
     "metadata": {
      "needs_background": "light"
     },
     "output_type": "display_data"
    }
   ],
   "source": [
    "color_pal = ['blue','red']\n",
    "\n",
    "colors = {'0': ('blue','no'),'1': ('red','si'),}\n",
    "\n",
    "g = sns.scatterplot(df['examen 1'],df['examen 2'],hue=df['aprobo'],legend='brief',palette = color_pal)\n",
    "patches = []\n",
    "for key,value in colors.items():\n",
    "    patch = mpatches.Patch(color=colors[key][0], label=colors[key][1])\n",
    "    patches.append(patch)\n",
    "g.legend(handles =patches,title= 'Admitido',loc='upper right')\n",
    "g.set_title(\"Resultados 2 Exámenes de Admisión\")\n",
    "g.figure.savefig('images/disp_map.jpg')"
   ]
  },
  {
   "cell_type": "markdown",
   "metadata": {},
   "source": [
    "### 3. Separar datos de entrenamiento y testing:\n",
    "- Como los datos de testing y entrenamiento ya están en df separados, no es necesario la librería train_test_split"
   ]
  },
  {
   "cell_type": "code",
   "execution_count": 32,
   "metadata": {},
   "outputs": [
    {
     "name": "stdout",
     "output_type": "stream",
     "text": [
      "(100, 2)\n",
      "(100,)\n"
     ]
    }
   ],
   "source": [
    "X_train = df.drop('aprobo',axis =1)\n",
    "y_train = df.aprobo\n",
    "X_test = df_test.drop('aprobo',axis =1)\n",
    "y_test = df_test.aprobo\n",
    "print(X_train.shape)\n",
    "print(y_train.shape)"
   ]
  },
  {
   "cell_type": "markdown",
   "metadata": {},
   "source": [
    "### 4. Preprocesamiento de datos:\n",
    "- Al utilizar SVC, es recomendable transformar los datos para ser procesados por el SVC, para ello se crea un nuevo df, y se transforman con el StandardScaler."
   ]
  },
  {
   "cell_type": "code",
   "execution_count": 33,
   "metadata": {},
   "outputs": [
    {
     "data": {
      "text/html": [
       "<div>\n",
       "<style scoped>\n",
       "    .dataframe tbody tr th:only-of-type {\n",
       "        vertical-align: middle;\n",
       "    }\n",
       "\n",
       "    .dataframe tbody tr th {\n",
       "        vertical-align: top;\n",
       "    }\n",
       "\n",
       "    .dataframe thead th {\n",
       "        text-align: right;\n",
       "    }\n",
       "</style>\n",
       "<table border=\"1\" class=\"dataframe\">\n",
       "  <thead>\n",
       "    <tr style=\"text-align: right;\">\n",
       "      <th></th>\n",
       "      <th>examen 1</th>\n",
       "      <th>examen 2</th>\n",
       "    </tr>\n",
       "  </thead>\n",
       "  <tbody>\n",
       "    <tr>\n",
       "      <th>0</th>\n",
       "      <td>-1.550597</td>\n",
       "      <td>1.016932</td>\n",
       "    </tr>\n",
       "    <tr>\n",
       "      <th>1</th>\n",
       "      <td>-1.826256</td>\n",
       "      <td>0.793580</td>\n",
       "    </tr>\n",
       "  </tbody>\n",
       "</table>\n",
       "</div>"
      ],
      "text/plain": [
       "   examen 1  examen 2\n",
       "0 -1.550597  1.016932\n",
       "1 -1.826256  0.793580"
      ]
     },
     "execution_count": 33,
     "metadata": {},
     "output_type": "execute_result"
    }
   ],
   "source": [
    "sc = StandardScaler()\n",
    "X_train_array = sc.fit_transform(X_train.values)\n",
    "X_train = pd.DataFrame(X_train_array,index = X_train.index, columns = X_train.columns)\n",
    "X_test_array = sc.transform(X_test.values)\n",
    "X_test = pd.DataFrame(X_test_array,index = X_test.index, columns = X_test.columns)\n",
    "X_test.head(2)"
   ]
  },
  {
   "cell_type": "markdown",
   "metadata": {},
   "source": [
    "### 5. Creación y entrenamiento del modelo:\n",
    "- Se utiliza el SVC (Support Vector Classification), con el tipo de kernel rbf."
   ]
  },
  {
   "cell_type": "code",
   "execution_count": 34,
   "metadata": {},
   "outputs": [
    {
     "name": "stdout",
     "output_type": "stream",
     "text": [
      "Entrenando el modelo...\n",
      "Terminado\n"
     ]
    }
   ],
   "source": [
    "print('Entrenando el modelo...')\n",
    "clf = SVC(kernel= 'rbf',max_iter =-1,C=10000000,gamma=0.85,).fit(X_train,y_train,)\n",
    "print('Terminado')"
   ]
  },
  {
   "cell_type": "markdown",
   "metadata": {},
   "source": [
    "### 6. Testing del modelo SVC:\n",
    "- Se realiza el testing del modelo con la función integrada score, y con la operación solicitada por el reto. Logrando una puntuación de 100%"
   ]
  },
  {
   "cell_type": "code",
   "execution_count": 35,
   "metadata": {},
   "outputs": [
    {
     "name": "stdout",
     "output_type": "stream",
     "text": [
      "El modelo tiene una precisión de 100.0%\n",
      "El score es de : 100.0%\n"
     ]
    }
   ],
   "source": [
    "print(f'El modelo tiene una precisión de {clf.score(X_test,y_test)*100}%')\n",
    "n_aciertos = 0\n",
    "n_total = 0\n",
    "for i in range(0,len(X_test.index)):\n",
    "    test= list(X_test.iloc[i])\n",
    "    res = clf.predict([test])[0]\n",
    "    n_total +=1\n",
    "    if res == y_test.iloc[i]:\n",
    "        n_aciertos +=1\n",
    "score = n_aciertos / n_total *100\n",
    "print(f'El score es de : {score}%')"
   ]
  },
  {
   "cell_type": "markdown",
   "metadata": {},
   "source": [
    "### 8. Visualización del modelo:\n",
    "- Se puede visualizar la divisíón de los aspirantes aprobados y no aprobados por el clasificador."
   ]
  },
  {
   "cell_type": "code",
   "execution_count": 36,
   "metadata": {},
   "outputs": [
    {
     "data": {
      "image/png": "[encoded data removed]",
      "text/plain": [
       "<Figure size 432x288 with 1 Axes>"
      ]
     },
     "metadata": {
      "needs_background": "light"
     },
     "output_type": "display_data"
    }
   ],
   "source": [
    "X = df.append(df_test)\n",
    "y = X.aprobo\n",
    "X = X.drop('aprobo',axis =1)\n",
    "X = sc.transform(X.values)\n",
    "\n",
    "def mostrar_plot_modelo_SVC(X,y,title,h=0.02):\n",
    "    h = .02\n",
    "    x_min, x_max = X[:, 0].min() - 0.2, X[:, 0].max() + 0.2\n",
    "    y_min, y_max = X[:, 1].min() - 0.2, X[:, 1].max() + 0.2\n",
    "    xx, yy = np.meshgrid(np.arange(x_min, x_max, h),\n",
    "                         np.arange(y_min, y_max, h))\n",
    "    Z = clf.predict(np.c_[xx.ravel(), yy.ravel()])\n",
    "    Z = Z.reshape(xx.shape)\n",
    "\n",
    "    plt.contourf(xx, yy, Z, cmap=plt.cm.coolwarm, alpha=1)\n",
    "    plt.scatter(X[:, 0], X[:, 1], c=y, cmap=plt.cm.seismic,edgecolors='black')\n",
    "    plt.legend(handles =patches,title= 'Admitido',loc='best')\n",
    "    plt.title(title)\n",
    "    plt.axis('off')\n",
    "    plt.savefig('images/SVC_model.jpg')\n",
    "    plt.show()\n",
    "\n",
    "titulo = 'Modelo SVC para clasificación de aspirantes'\n",
    "mostrar_plot_modelo_SVC(X,y,titulo)"
   ]
  },
  {
   "cell_type": "markdown",
   "metadata": {},
   "source": [
    "### 9. Guardar modelo:\n",
    "- Se guarda el modelo para que pueda ser utilizado por el archivo main.py ."
   ]
  },
  {
   "cell_type": "code",
   "execution_count": 37,
   "metadata": {},
   "outputs": [],
   "source": [
    "import pickle \n",
    "filename = 'model/Modelo_svc.sav'\n",
    "pickle.dump(clf, open(filename, 'wb'))"
   ]
  }
 ],
 "metadata": {
  "kernelspec": {
   "display_name": "Python 3",
   "language": "python",
   "name": "python3"
  },
  "language_info": {
   "codemirror_mode": {
    "name": "ipython",
    "version": 3
   },
   "file_extension": ".py",
   "mimetype": "text/x-python",
   "name": "python",
   "nbconvert_exporter": "python",
   "pygments_lexer": "ipython3",
   "version": "3.7.6"
  }
 },
 "nbformat": 4,
 "nbformat_minor": 4
}
